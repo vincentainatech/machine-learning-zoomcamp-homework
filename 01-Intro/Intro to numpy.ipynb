{
 "cells": [
  {
   "cell_type": "code",
   "execution_count": 2,
   "id": "19be7de7-3ea7-4cbf-9a5f-5207128bd492",
   "metadata": {},
   "outputs": [],
   "source": [
    "import numpy as np"
   ]
  },
  {
   "cell_type": "code",
   "execution_count": 22,
   "id": "5def7178-3d0a-41af-8c6c-b9f8fa58d9e7",
   "metadata": {},
   "outputs": [
    {
     "data": {
      "text/plain": [
       "array([0., 0., 0., 0., 0.])"
      ]
     },
     "execution_count": 22,
     "metadata": {},
     "output_type": "execute_result"
    }
   ],
   "source": [
    "np.zeros(5) #creates an array of the specified size. Fills the array with zeros"
   ]
  },
  {
   "cell_type": "code",
   "execution_count": 23,
   "id": "321159ab-f87b-4e18-b7ee-99ae6dd8d80c",
   "metadata": {},
   "outputs": [
    {
     "data": {
      "text/plain": [
       "array([1., 1., 1., 1., 1.])"
      ]
     },
     "execution_count": 23,
     "metadata": {},
     "output_type": "execute_result"
    }
   ],
   "source": [
    "np.ones(5) #creates an array of the specified size. Fills the array with ones"
   ]
  },
  {
   "cell_type": "code",
   "execution_count": 24,
   "id": "7893dbbc-eb1d-473f-bb1c-00ff78097e80",
   "metadata": {},
   "outputs": [
    {
     "data": {
      "text/plain": [
       "array([2.5, 2.5, 2.5, 2.5, 2.5])"
      ]
     },
     "execution_count": 24,
     "metadata": {},
     "output_type": "execute_result"
    }
   ],
   "source": [
    "np.full(5, 2.5) #creates an array of the specified size and number."
   ]
  },
  {
   "cell_type": "code",
   "execution_count": 25,
   "id": "d7acfe69-4b7c-4087-91ad-8d581c09afe9",
   "metadata": {},
   "outputs": [
    {
     "data": {
      "text/plain": [
       "array([1, 2, 3, 4, 5])"
      ]
     },
     "execution_count": 25,
     "metadata": {},
     "output_type": "execute_result"
    }
   ],
   "source": [
    "np.array([1,2,3,4,5]) #Converts a python list to an array"
   ]
  },
  {
   "cell_type": "code",
   "execution_count": 26,
   "id": "e7f2a28e-bf70-43b2-ba02-26f9094fbc2b",
   "metadata": {},
   "outputs": [],
   "source": [
    "a = np.array([1,2,3,4,5]) #Converts a python list to an array"
   ]
  },
  {
   "cell_type": "code",
   "execution_count": 27,
   "id": "3f1042c9-2b3e-4ddb-8328-6f172ae5adf9",
   "metadata": {},
   "outputs": [
    {
     "data": {
      "text/plain": [
       "array([1, 2, 3, 4, 5])"
      ]
     },
     "execution_count": 27,
     "metadata": {},
     "output_type": "execute_result"
    }
   ],
   "source": [
    "a"
   ]
  },
  {
   "cell_type": "code",
   "execution_count": 28,
   "id": "450adbc2-f2ad-4ce1-a7ef-1fc267515a37",
   "metadata": {},
   "outputs": [
    {
     "data": {
      "text/plain": [
       "np.int64(3)"
      ]
     },
     "execution_count": 28,
     "metadata": {},
     "output_type": "execute_result"
    }
   ],
   "source": [
    "a [2] # to access an element of the array"
   ]
  },
  {
   "cell_type": "code",
   "execution_count": 29,
   "id": "f629ccf6-3f6c-4c26-bc7e-564a3ece7c21",
   "metadata": {},
   "outputs": [],
   "source": [
    "a [2] = 10 #replace the value in the array at that specific index"
   ]
  },
  {
   "cell_type": "code",
   "execution_count": 30,
   "id": "1d34b363-f6e3-4e67-b337-e028128fbf64",
   "metadata": {},
   "outputs": [
    {
     "data": {
      "text/plain": [
       "array([ 1,  2, 10,  4,  5])"
      ]
     },
     "execution_count": 30,
     "metadata": {},
     "output_type": "execute_result"
    }
   ],
   "source": [
    "a"
   ]
  },
  {
   "cell_type": "code",
   "execution_count": 31,
   "id": "8c4c4363-dbdb-4b8e-bcc0-1ea433a81efd",
   "metadata": {},
   "outputs": [
    {
     "data": {
      "text/plain": [
       "array([0, 1, 2, 3, 4, 5, 6, 7, 8, 9])"
      ]
     },
     "execution_count": 31,
     "metadata": {},
     "output_type": "execute_result"
    }
   ],
   "source": [
    "np.arange(10) #creates a range of values based on the specified number"
   ]
  },
  {
   "cell_type": "code",
   "execution_count": 32,
   "id": "00ace4c3-d170-44e3-8f7e-07206502e624",
   "metadata": {},
   "outputs": [
    {
     "data": {
      "text/plain": [
       "array([3, 4, 5, 6, 7, 8, 9])"
      ]
     },
     "execution_count": 32,
     "metadata": {},
     "output_type": "execute_result"
    }
   ],
   "source": [
    "np.arange(3,10) #creates a range of values based on the specified numbers"
   ]
  },
  {
   "cell_type": "code",
   "execution_count": 33,
   "id": "3baca9cf-0a27-41f9-a2a1-0cb363ae0b8a",
   "metadata": {},
   "outputs": [
    {
     "data": {
      "text/plain": [
       "array([4, 5, 6, 7, 8, 9])"
      ]
     },
     "execution_count": 33,
     "metadata": {},
     "output_type": "execute_result"
    }
   ],
   "source": [
    "np.arange(4,10) #creates a range of values based on the specified numbers"
   ]
  },
  {
   "cell_type": "code",
   "execution_count": null,
   "id": "4984f313-b283-41e3-8cd1-06983941f490",
   "metadata": {},
   "outputs": [],
   "source": []
  }
 ],
 "metadata": {
  "kernelspec": {
   "display_name": "Python 3 (ipykernel)",
   "language": "python",
   "name": "python3"
  },
  "language_info": {
   "codemirror_mode": {
    "name": "ipython",
    "version": 3
   },
   "file_extension": ".py",
   "mimetype": "text/x-python",
   "name": "python",
   "nbconvert_exporter": "python",
   "pygments_lexer": "ipython3",
   "version": "3.12.1"
  }
 },
 "nbformat": 4,
 "nbformat_minor": 5
}
